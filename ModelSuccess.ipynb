{
 "cells": [
  {
   "cell_type": "code",
   "execution_count": null,
   "metadata": {},
   "outputs": [],
   "source": [
    "import pandas as pd\n",
    "import numpy as np\n",
    "\n",
    "df = pd.read_excel('Resource.xlsx')\n",
    "\n",
    "select_column = ['TypeJob', 'Budget', 'Width', 'Length', 'Height', 'Wood (sm.)', 'Wood (pc.)', 'Lighting (pc.)', 'Nail (box.)', 'Table', 'Chair', 'Paint (bucket)', 'Booth', \n",
    "                 'BuildIN', 'Kiosk', 'Logo', 'Stage', 'Stand', 'Towerbox', 'Vinyl']\n",
    "\n",
    "select_x = ['Budget', 'Width', 'Length', 'Height', 'Wood (sm.)', 'Booth', \n",
    "                 'BuildIN', 'Kiosk', 'Logo', 'Stage', 'Stand', 'Towerbox', 'Vinyl']\n",
    "\n",
    "\n",
    "y_wood = ['Wood (pc.)']\n",
    "y_lighting = ['Lighting (pc.)']\n",
    "y_nail = ['Nail (box.)']\n",
    "y_table = ['Table']\n",
    "y_chair = ['Chair']\n",
    "y_paint = ['Paint (bucket)']\n",
    "\n",
    "data = df[select_column]\n",
    "\n",
    "data_x = df[select_x]\n",
    "data_y_wood = df[y_wood]\n",
    "data_y_lighting = df[y_lighting]\n",
    "data_y_nail = df[y_nail]\n",
    "data_y_table = df[y_table]\n",
    "data_y_chair = df[y_chair]\n",
    "data_y_paint = df[y_paint]\n",
    "\n",
    "df.describe()"
   ]
  },
  {
   "cell_type": "markdown",
   "metadata": {},
   "source": [
    "Table Predict"
   ]
  },
  {
   "cell_type": "markdown",
   "metadata": {},
   "source": [
    "Chair Predict"
   ]
  },
  {
   "cell_type": "markdown",
   "metadata": {},
   "source": [
    "Lighting Predict"
   ]
  },
  {
   "cell_type": "markdown",
   "metadata": {},
   "source": [
    "Nail Predict"
   ]
  }
 ],
 "metadata": {
  "language_info": {
   "name": "python"
  }
 },
 "nbformat": 4,
 "nbformat_minor": 2
}
